{
 "cells": [
  {
   "cell_type": "code",
   "execution_count": 1,
   "metadata": {},
   "outputs": [],
   "source": [
    "import numpy as np\n",
    "from scipy.stats import beta\n",
    "import statsmodels.stats.api as sms\n",
    "from statsmodels.stats.proportion import proportions_ztest"
   ]
  },
  {
   "cell_type": "markdown",
   "metadata": {},
   "source": [
    "Frequentist method:\n",
    "\n",
    "\n",
    "Визначення параметрів тесту: Задано відсоток придбань для контрольної групи (p_control = 0.17) та тестової групи (p_test = 0.20). Також вказані рівень значущості (alpha = 0.05) та статистична потужність (power = 0.80).\n",
    "\n",
    "Розрахунок ефекту: Обчислюється ефект розміру (effect_size) між контрольними та тестовими групами.\n",
    "\n",
    "Розрахунок необхідного розміру вибірки: Використовується розмір вибірки для нормального незалежного тесту, з урахуванням ефекту, потужності та рівня значущості.\n",
    "\n",
    "Оцінка тривалості тесту: Визначається кількість користувачів, які щодня бачать пропозицію (daily_users_seeing_offer), та розраховується тривалість тесту в днях на основі загального розміру вибірки.\n",
    "\n",
    "Виведення результатів: Показується необхідний розмір вибірки на кожну групу та оцінка тривалості тесту для кожної групи і загалом."
   ]
  },
  {
   "cell_type": "code",
   "execution_count": 93,
   "metadata": {},
   "outputs": [
    {
     "name": "stdout",
     "output_type": "stream",
     "text": [
      "Required sample size per group: 2625\n",
      "Estimated test duration (per group): 10 days\n"
     ]
    }
   ],
   "source": [
    "p_control = 0.17\n",
    "p_test = 0.20  \n",
    "\n",
    "alpha = 0.05\n",
    "power = 0.80\n",
    "\n",
    "effect_size = sms.proportion_effectsize(p_control, p_test)\n",
    "\n",
    "\n",
    "sample_size = sms.NormalIndPower().solve_power(effect_size, power=power, alpha=alpha, ratio=1)\n",
    "sample_size = int(sample_size)\n",
    "\n",
    "\n",
    "daily_users = 2000\n",
    "daily_users_seeing_offer = int(daily_users * 0.13)\n",
    "days = int(sample_size / daily_users_seeing_offer)\n",
    "\n",
    "print(f\"Required sample size per group: {sample_size}\")\n",
    "print(f\"Estimated test duration (per group): {days} days\")"
   ]
  },
  {
   "cell_type": "markdown",
   "metadata": {},
   "source": [
    "Визначення даних: Встановлюються відсотки придбань для контрольної (p_control) і тестової (p_test) груп. Генеруються дані про придбання для кожної групи за допомогою біноміального розподілу, де кожен користувач або здійснює покупку (1) або не здійснює (0).\n",
    "\n",
    "Обчислення статистик: Підраховуються загальна кількість придбань (x_control та x_test) для контрольної і тестової груп. Обчислюється Z-статистика та p-значення за допомогою Z-тесту для пропорцій.\n",
    "\n",
    "В коді використовується нормальна апроксимація біноміального розподілу, щоб спростити обчислення Z-статистики. Це можливе завдяки великій кількості спроб (показники n), при яких біноміальний розподіл наближається до нормального.\n",
    "\n",
    "Умови для використання:\n",
    "\n",
    "Очікувана кількість успіхів (np) та невдач (n(1-p)) повинні бути не меншими за 5.\n",
    "\n",
    "Результати тесту: Виводяться Z-статистика і p-значення. Перевіряється, чи є p-значення меншим за рівень значущості (alpha). Якщо так, гіпотеза про відсутність різниці відхиляється."
   ]
  },
  {
   "cell_type": "code",
   "execution_count": 91,
   "metadata": {},
   "outputs": [
    {
     "name": "stdout",
     "output_type": "stream",
     "text": [
      "Z-statistic: -2.5163\n",
      "P-value: 0.0119\n",
      "Reject the null hypothesis: There is a significant difference in conversion rates.\n",
      "Control group normal approximation valid: True\n",
      "Test group normal approximation valid: True\n",
      "Normal approximation is valid for both groups.\n"
     ]
    }
   ],
   "source": [
    "np.random.seed(42)\n",
    "p_control = 0.17\n",
    "p_test = 0.20\n",
    "alpha = 0.05\n",
    "\n",
    "control_conversions = np.random.binomial(1, p_control, daily_users_seeing_offer * days)\n",
    "test_conversions = np.random.binomial(1, p_test, daily_users_seeing_offer * days)\n",
    "\n",
    "n_control = daily_users_seeing_offer * days\n",
    "x_control = np.sum(control_conversions)\n",
    "n_test = daily_users_seeing_offer * days\n",
    "x_test = np.sum(test_conversions)\n",
    "\n",
    "count = np.array([x_control, x_test])\n",
    "nobs = np.array([n_control, n_test])\n",
    "stat, p_value = proportions_ztest(count, nobs)\n",
    "\n",
    "print(f\"Z-statistic: {stat:.4f}\")\n",
    "print(f\"P-value: {p_value:.4f}\")\n",
    "\n",
    "if p_value < alpha:\n",
    "    print(\"Reject the null hypothesis: There is a significant difference in conversion rates.\")\n",
    "else:\n",
    "    print(\"Fail to reject the null hypothesis: There is no significant difference in conversion rates.\")\n",
    "\n",
    "def check_normal_approximation(n, p):\n",
    "    np_value = n * p\n",
    "    n_p_value = n * (1 - p)\n",
    "    return np_value > 5 and n_p_value > 5\n",
    "\n",
    "check_normal_approximation_control = check_normal_approximation(daily_users_seeing_offer, p_control)\n",
    "check_normal_approximation_test = check_normal_approximation(daily_users_seeing_offer, p_test)\n",
    "\n",
    "print(f\"Control group normal approximation valid: {check_normal_approximation_control}\")\n",
    "print(f\"Test group normal approximation valid: {check_normal_approximation_test}\")\n",
    "\n",
    "if check_normal_approximation_control and check_normal_approximation_test:\n",
    "    print(\"Normal approximation is valid for both groups.\")\n",
    "else:\n",
    "    print(\"Normal approximation is not valid for one or both groups.\")\n"
   ]
  },
  {
   "cell_type": "markdown",
   "metadata": {},
   "source": [
    "Baysian method:\n",
    "\n",
    "Визначення апріорних розподілів: Встановлюються апріорні параметри для розподілу Бета (alpha_prior = 1, beta_prior = 1).\n",
    "\n",
    "Обчислення постеріорних розподілів: Розраховуються постеріорні розподіли для контрольної (posterior_control) і тестової (posterior_test) груп на основі кількості придбань (x_control і x_test) та загальної кількості користувачів (n_control і n_test).\n",
    "\n",
    "Генерація вибірки: Створюються вибірки з постеріорних розподілів для кожної групи (по 10,000 зразків).\n",
    "\n",
    "Оцінка ймовірності: Визначається ймовірність того, що конверсія в тестовій групі перевищує конверсію в контрольній групі.\n",
    "\n",
    "Результати: Виводяться ймовірність перевищення конверсії тестової групи над контрольною, а також середні значення конверсій для обох груп."
   ]
  },
  {
   "cell_type": "code",
   "execution_count": 92,
   "metadata": {},
   "outputs": [
    {
     "name": "stdout",
     "output_type": "stream",
     "text": [
      "Probability that test group conversion rate is higher than control group: 0.99\n",
      "Control group conversion rate: 16.87%\n",
      "Test group conversion rate: 19.56%\n"
     ]
    }
   ],
   "source": [
    "alpha_prior = 1\n",
    "beta_prior = 1\n",
    "\n",
    "posterior_control = beta(alpha_prior + x_control, beta_prior + n_control - x_control)\n",
    "posterior_test = beta(alpha_prior + x_test, beta_prior + n_test - x_test)\n",
    "\n",
    "samples_control = posterior_control.rvs(10000)\n",
    "samples_test = posterior_test.rvs(10000)\n",
    "\n",
    "prob_test_beats_control = np.mean(samples_test > samples_control)\n",
    "\n",
    "mean_control = posterior_control.mean()\n",
    "mean_test = posterior_test.mean()\n",
    "\n",
    "print(f\"Probability that test group conversion rate is higher than control group: {prob_test_beats_control:.2f}\")\n",
    "print(f\"Control group conversion rate: {mean_control:.2%}\")\n",
    "print(f\"Test group conversion rate: {mean_test:.2%}\")"
   ]
  }
 ],
 "metadata": {
  "kernelspec": {
   "display_name": "ab_test",
   "language": "python",
   "name": "python3"
  },
  "language_info": {
   "codemirror_mode": {
    "name": "ipython",
    "version": 3
   },
   "file_extension": ".py",
   "mimetype": "text/x-python",
   "name": "python",
   "nbconvert_exporter": "python",
   "pygments_lexer": "ipython3",
   "version": "3.12.3"
  }
 },
 "nbformat": 4,
 "nbformat_minor": 2
}
